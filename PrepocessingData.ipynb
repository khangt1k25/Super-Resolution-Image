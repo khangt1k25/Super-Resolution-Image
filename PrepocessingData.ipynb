{
 "cells": [
  {
   "cell_type": "code",
   "execution_count": 1,
   "metadata": {},
   "outputs": [],
   "source": [
    "import torch\n",
    "from torch.utils.data import Dataset\n",
    "import torchvision\n",
    "import numpy as np\n",
    "import torchvision.transforms as transforms\n",
    "from PIL import Image\n",
    "import glob\n",
    "import torch.nn as nn\n",
    "import math\n",
    "from torch.autograd import Variable\n",
    "import os\n",
    "from tqdm import tqdm\n",
    "import pickle"
   ]
  },
  {
   "cell_type": "code",
   "execution_count": 2,
   "metadata": {},
   "outputs": [],
   "source": [
    "TRAIN_DIR = './train/VOC-2012-train/' \n",
    "VALID_DIR = './train/VOC-2012-valid/'"
   ]
  },
  {
   "cell_type": "markdown",
   "metadata": {},
   "source": [
    "## Compress train"
   ]
  },
  {
   "cell_type": "code",
   "execution_count": 9,
   "metadata": {},
   "outputs": [
    {
     "name": "stderr",
     "output_type": "stream",
     "text": [
      "100%|██████████| 3000/3000 [00:22<00:00, 133.22it/s]\n"
     ]
    }
   ],
   "source": [
    "train_files= os.listdir(TRAIN_DIR)\n",
    "\n",
    "train_images = []\n",
    "for file in tqdm(train_files):\n",
    "    image = Image.open(os.path.join(TRAIN_DIR, file))\n",
    "    train_images.append(np.array(image))\n",
    "    image.close()"
   ]
  },
  {
   "cell_type": "code",
   "execution_count": 11,
   "metadata": {},
   "outputs": [],
   "source": [
    "with open('./compress_data/voc_train.pkl', 'wb') as f:\n",
    "    pickle.dump(train_images, f)"
   ]
  },
  {
   "cell_type": "markdown",
   "metadata": {},
   "source": [
    "## Compress valid"
   ]
  },
  {
   "cell_type": "code",
   "execution_count": 13,
   "metadata": {},
   "outputs": [
    {
     "name": "stderr",
     "output_type": "stream",
     "text": [
      "100%|██████████| 100/100 [00:00<00:00, 115.24it/s]\n"
     ]
    }
   ],
   "source": [
    "valid_files = os.listdir(VALID_DIR)\n",
    "\n",
    "valid_images = []\n",
    "for file in tqdm(valid_files):\n",
    "    image = Image.open(os.path.join(VALID_DIR, file))\n",
    "    valid_images.append(np.array(image))\n",
    "    image.close()"
   ]
  },
  {
   "cell_type": "code",
   "execution_count": 14,
   "metadata": {},
   "outputs": [],
   "source": [
    "with open('./compress_data/voc_valid.pkl', 'wb') as f:\n",
    "    pickle.dump(valid_images, f)"
   ]
  },
  {
   "cell_type": "markdown",
   "metadata": {},
   "source": [
    "## Dataset train"
   ]
  },
  {
   "cell_type": "code",
   "execution_count": 3,
   "metadata": {},
   "outputs": [],
   "source": [
    "def lr_transformer(crop_size, upscale_factor):\n",
    "    return transforms.Compose(\n",
    "                [\n",
    "                    transforms.Resize((crop_size//upscale_factor, crop_size//upscale_factor), Image.BICUBIC),\n",
    "                    #transforms.ToTensor(), \n",
    "                    #transforms.Normalize([0.5,0.5,0.5],[0.5,0.5,0.5])\n",
    "                ]\n",
    "        )\n",
    "    \n",
    "def hr_transformer(crop_size):\n",
    "    return transforms.Compose(\n",
    "            [\n",
    "                \n",
    "                transforms.RandomCrop(crop_size),\n",
    "                #transforms.Resize((hr_h, hr_h), Image.BICUBIC),\n",
    "                #transforms.ToTensor(),\n",
    "                #transforms.Normalize([0.5, 0.5, 0.5],[0.5, 0.5, 0.5])\n",
    "            ]\n",
    "        )\n",
    "    "
   ]
  },
  {
   "cell_type": "code",
   "execution_count": 4,
   "metadata": {},
   "outputs": [],
   "source": [
    "class TrainDataset(Dataset):\n",
    "    def __init__(self, path, crop_size, upscale_factor):\n",
    "        super(TrainDataset, self).__init__()\n",
    "        with open(path, 'rb') as f:\n",
    "            self.images = pickle.load(f)\n",
    "        \n",
    "        self.hr_transformer = transforms.Compose(\n",
    "            [\n",
    "                transforms.RandomCrop(crop_size),\n",
    "            ]\n",
    "        )\n",
    "        self.lr_transformer = transforms.Compose(\n",
    "            [\n",
    "                transforms.Resize((crop_size//upscale_factor, crop_size//upscale_factor), Image.BICUBIC),\n",
    "            ]\n",
    "        )\n",
    "    \n",
    "    def __getitem__(self, index):\n",
    "        \n",
    "        image = Image.fromarray(self.images[index])\n",
    "        hr = self.hr_transformer(image)\n",
    "        lr = self.lr_transformer(hr)\n",
    "        \n",
    "        to_tensor = transforms.ToTensor()\n",
    "        \n",
    "        \n",
    "        return  {'lr':to_tensor(lr), 'hr':to_tensor(hr)}\n",
    "    \n",
    "    def __len__(self):\n",
    "        return len(self.images)\n",
    "        "
   ]
  },
  {
   "cell_type": "code",
   "execution_count": 13,
   "metadata": {},
   "outputs": [],
   "source": [
    "class ValidDataset(Dataset):\n",
    "    def __init__(self, path, crop_size, upscale_factor):\n",
    "        super(ValidDataset, self).__init__()\n",
    "        with open(path, 'rb') as f:\n",
    "            self.images = pickle.load(f)\n",
    "        \n",
    "        self.hr_transformer = transforms.Compose(\n",
    "            [\n",
    "                transforms.RandomCrop(crop_size),\n",
    "            ]\n",
    "        )\n",
    "        self.lr_transformer = transforms.Compose(\n",
    "            [\n",
    "                transforms.Resize((crop_size//upscale_factor, crop_size//upscale_factor), Image.BICUBIC),\n",
    "            ]\n",
    "        )\n",
    "        self.hr_restore_transformer = transforms.Compose(\n",
    "            [\n",
    "                transforms.Resize(crop_size, Image.BICUBIC)\n",
    "            ]\n",
    "        )\n",
    "        \n",
    "    def __getitem__(self, index):\n",
    "        \n",
    "        image = Image.fromarray(self.images[index])\n",
    "        hr = self.hr_transformer(image)\n",
    "        lr = self.lr_transformer(hr)\n",
    "        hr_restore = self.hr_restore_transformer(lr)\n",
    "        \n",
    "        to_tensor = transforms.ToTensor()\n",
    "        \n",
    "        \n",
    "        return  {'lr':to_tensor(lr), 'hr':to_tensor(hr), 'hr_restore':to_tensor(hr_restore)}\n",
    "    \n",
    "    def __len__(self):\n",
    "        return len(self.images)\n",
    "        "
   ]
  },
  {
   "cell_type": "code",
   "execution_count": null,
   "metadata": {},
   "outputs": [],
   "source": []
  },
  {
   "cell_type": "code",
   "execution_count": null,
   "metadata": {},
   "outputs": [],
   "source": []
  },
  {
   "cell_type": "code",
   "execution_count": null,
   "metadata": {},
   "outputs": [],
   "source": []
  },
  {
   "cell_type": "code",
   "execution_count": null,
   "metadata": {},
   "outputs": [],
   "source": []
  },
  {
   "cell_type": "code",
   "execution_count": 6,
   "metadata": {},
   "outputs": [],
   "source": [
    "traindataset = TrainDataset(path='./compress_data/voc_train.pkl', crop_size=88, upscale_factor=4)"
   ]
  },
  {
   "cell_type": "code",
   "execution_count": 7,
   "metadata": {},
   "outputs": [],
   "source": [
    "lr, hr = traindataset[0]['lr'], traindataset[0]['hr']"
   ]
  },
  {
   "cell_type": "code",
   "execution_count": 14,
   "metadata": {},
   "outputs": [],
   "source": [
    "validdataset = ValidDataset(path='./compress_data/voc_valid.pkl', crop_size=88, upscale_factor=4)"
   ]
  },
  {
   "cell_type": "code",
   "execution_count": 15,
   "metadata": {},
   "outputs": [],
   "source": [
    "x = validdataset[0]"
   ]
  },
  {
   "cell_type": "code",
   "execution_count": null,
   "metadata": {},
   "outputs": [],
   "source": []
  }
 ],
 "metadata": {
  "kernelspec": {
   "display_name": "Python 3",
   "language": "python",
   "name": "python3"
  },
  "language_info": {
   "codemirror_mode": {
    "name": "ipython",
    "version": 3
   },
   "file_extension": ".py",
   "mimetype": "text/x-python",
   "name": "python",
   "nbconvert_exporter": "python",
   "pygments_lexer": "ipython3",
   "version": "3.7.6"
  }
 },
 "nbformat": 4,
 "nbformat_minor": 4
}
